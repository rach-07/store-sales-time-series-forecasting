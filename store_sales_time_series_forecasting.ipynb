{
  "nbformat": 4,
  "nbformat_minor": 0,
  "metadata": {
    "colab": {
      "provenance": []
    },
    "kernelspec": {
      "name": "python3",
      "display_name": "Python 3"
    },
    "language_info": {
      "name": "python"
    }
  },
  "cells": [
    {
      "cell_type": "code",
      "execution_count": 1,
      "metadata": {
        "colab": {
          "base_uri": "https://localhost:8080/"
        },
        "id": "_sE4KsF9vKJQ",
        "outputId": "43576721-80a3-45f5-f8ab-6bae4072d3b3"
      },
      "outputs": [
        {
          "output_type": "stream",
          "name": "stdout",
          "text": [
            "Downloading store-sales-time-series-forecasting, 22416355 bytes compressed\n",
            "[==================================================] 22416355 bytes downloaded\n",
            "Downloaded and uncompressed: store-sales-time-series-forecasting\n",
            "Data source import complete.\n"
          ]
        }
      ],
      "source": [
        "import os\n",
        "import sys\n",
        "from tempfile import NamedTemporaryFile\n",
        "from urllib.request import urlopen\n",
        "from urllib.parse import unquote, urlparse\n",
        "from urllib.error import HTTPError\n",
        "from zipfile import ZipFile\n",
        "import tarfile\n",
        "import shutil\n",
        "\n",
        "CHUNK_SIZE = 40960\n",
        "SOURCE_MAPPING = 'store-sales-time-series-forecasting:https%3A%2F%2Fstorage.googleapis.com%2Fkaggle-competitions-data%2Fkaggle-v2%2F29781%2F2887556%2Fbundle%2Farchive.zip%3FX-Goog-Algorithm%3DGOOG4-RSA-SHA256%26X-Goog-Credential%3Dgcp-kaggle-com%2540kaggle-161607.iam.gserviceaccount.com%252F20241003%252Fauto%252Fstorage%252Fgoog4_request%26X-Goog-Date%3D20241003T093405Z%26X-Goog-Expires%3D259200%26X-Goog-SignedHeaders%3Dhost%26X-Goog-Signature%3D2e0affe0ef700b87c4d7ff232330959776a92caebab553f8b07d9e5108e9d98407c78512057cf4eba66371069610c36550015367fcaa761b1241c34a4748c88804f6ba81a0af846dbc68a16390fca11a0ade9c2b828625d6e00cd579100db9eec72b7411200612fba31feaa314a5a239ee85f86e5ad9d6423eee2ee30dfb272022cf819afabfb96e66c798b1afa9fdaac354d47875e7d9cbdb0303ee15af7d60aa48421235a07dd5cb6715245941ce1ad0401c9231dd1bcbe11f5be74b6817557e13139fd91b36adbad2497716ca55e18c94c4a2932db0b567e6e93dd8cf45c3c42d7d3e81dee4f605fe1737f2d20f16edf76b2b91b69f3bf96812dcf714794f'\n",
        "\n",
        "INPUT_PATH = '/kaggle/input'\n",
        "WORKING_PATH = '/kaggle/working'\n",
        "\n",
        "!umount /kaggle/input/ 2> /dev/null\n",
        "shutil.rmtree(INPUT_PATH, ignore_errors=True)\n",
        "os.makedirs(INPUT_PATH, 0o777, exist_ok=True)\n",
        "os.makedirs(WORKING_PATH, 0o777, exist_ok=True)\n",
        "\n",
        "try:\n",
        "    os.symlink(INPUT_PATH, os.path.join(\"..\", 'input'), target_is_directory=True)\n",
        "except FileExistsError:\n",
        "    pass\n",
        "try:\n",
        "    os.symlink(WORKING_PATH, os.path.join(\"..\", 'working'), target_is_directory=True)\n",
        "except FileExistsError:\n",
        "    pass\n",
        "\n",
        "for mapping in SOURCE_MAPPING.split(','):\n",
        "    dir_name, url_encoded = mapping.split(':')\n",
        "    download_url = unquote(url_encoded)\n",
        "    filename = urlparse(download_url).path\n",
        "    dest_path = os.path.join(INPUT_PATH, dir_name)\n",
        "    try:\n",
        "        with urlopen(download_url) as response, NamedTemporaryFile() as temp_file:\n",
        "            total_length = response.headers['content-length']\n",
        "            print(f'Downloading {dir_name}, {total_length} bytes compressed')\n",
        "            downloaded = 0\n",
        "            data_chunk = response.read(CHUNK_SIZE)\n",
        "            while len(data_chunk) > 0:\n",
        "                downloaded += len(data_chunk)\n",
        "                temp_file.write(data_chunk)\n",
        "                progress = int(50 * downloaded / int(total_length))\n",
        "                sys.stdout.write(f\"\\r[{'=' * progress}{' ' * (50-progress)}] {downloaded} bytes downloaded\")\n",
        "                sys.stdout.flush()\n",
        "                data_chunk = response.read(CHUNK_SIZE)\n",
        "            if filename.endswith('.zip'):\n",
        "                with ZipFile(temp_file) as zip_file:\n",
        "                    zip_file.extractall(dest_path)\n",
        "            else:\n",
        "                with tarfile.open(temp_file.name) as tar_file:\n",
        "                    tar_file.extractall(dest_path)\n",
        "            print(f'\\nDownloaded and uncompressed: {dir_name}')\n",
        "    except HTTPError:\n",
        "        print(f'Failed to load (likely expired) {download_url} to path {dest_path}')\n",
        "        continue\n",
        "    except OSError:\n",
        "        print(f'Failed to load {download_url} to path {dest_path}')\n",
        "        continue\n",
        "\n",
        "print('Data source import complete.')\n"
      ]
    },
    {
      "cell_type": "code",
      "source": [
        "import numpy as np\n",
        "import pandas as pd\n",
        "\n",
        "import os\n",
        "for path, _, files in os.walk('/kaggle/input'):\n",
        "    for file in files:\n",
        "        print(os.path.join(path, file))\n"
      ],
      "metadata": {
        "colab": {
          "base_uri": "https://localhost:8080/"
        },
        "id": "6ZEMXqqJve9t",
        "outputId": "72d79728-c3ce-4ada-de17-1d032ffa886e"
      },
      "execution_count": 2,
      "outputs": [
        {
          "output_type": "stream",
          "name": "stdout",
          "text": [
            "/kaggle/input/store-sales-time-series-forecasting/transactions.csv\n",
            "/kaggle/input/store-sales-time-series-forecasting/stores.csv\n",
            "/kaggle/input/store-sales-time-series-forecasting/oil.csv\n",
            "/kaggle/input/store-sales-time-series-forecasting/train.csv\n",
            "/kaggle/input/store-sales-time-series-forecasting/test.csv\n",
            "/kaggle/input/store-sales-time-series-forecasting/holidays_events.csv\n",
            "/kaggle/input/store-sales-time-series-forecasting/sample_submission.csv\n"
          ]
        }
      ]
    },
    {
      "cell_type": "code",
      "source": [
        "use_data_since_2017 = True"
      ],
      "metadata": {
        "id": "Vewik5ic3inE"
      },
      "execution_count": 3,
      "outputs": []
    },
    {
      "cell_type": "code",
      "source": [
        "!pip install catboost\n",
        "from catboost import CatBoostRegressor, Pool\n",
        "from sklearn.model_selection import train_test_split\n",
        "from sklearn.metrics import mean_squared_error\n",
        "\n",
        "train_df = pd.read_csv('/kaggle/input/store-sales-time-series-forecasting/train.csv')\n",
        "test_df = pd.read_csv('/kaggle/input/store-sales-time-series-forecasting/test.csv')\n",
        "stores_df = pd.read_csv('/kaggle/input/store-sales-time-series-forecasting/stores.csv')\n",
        "oil_df = pd.read_csv('/kaggle/input/store-sales-time-series-forecasting/oil.csv')\n",
        "holidays_df = pd.read_csv('/kaggle/input/store-sales-time-series-forecasting/holidays_events.csv')\n",
        "transactions_df = pd.read_csv('/kaggle/input/store-sales-time-series-forecasting/transactions.csv')\n",
        "sample_submission_df = pd.read_csv('/kaggle/input/store-sales-time-series-forecasting/sample_submission.csv')\n",
        "\n",
        "train_df['date'] = pd.to_datetime(train_df['date'])\n",
        "test_df['date'] = pd.to_datetime(test_df['date'])\n",
        "\n",
        "if use_data_since_2017:\n",
        "    train_df = train_df[train_df['date'] >= '2017-01-01']\n",
        "    test_df = test_df[test_df['date'] >= '2017-01-01']\n",
        "\n",
        "train_df['holiday'] = train_df['date'].isin(holidays_df['date'])\n",
        "test_df['holiday'] = test_df['date'] == pd.to_datetime('2017-08-24')\n",
        "\n",
        "for df in [train_df, test_df]:\n",
        "    df['year'] = df['date'].dt.year\n",
        "    df['month'] = df['date'].dt.month\n",
        "    df['day'] = df['date'].dt.day\n",
        "    df['weekday'] = df['date'].dt.weekday\n",
        "\n",
        "train_df.drop(columns=['date'], inplace=True)\n",
        "test_df.drop(columns=['date'], inplace=True)\n",
        "\n",
        "cat_cols = train_df.select_dtypes(include=['object']).columns\n",
        "train_df = pd.get_dummies(train_df, columns=cat_cols, drop_first=True)\n",
        "test_df = pd.get_dummies(test_df, columns=cat_cols, drop_first=True)\n",
        "\n",
        "train_df, test_df = train_df.align(test_df, join='left', axis=1, fill_value=0)\n",
        "\n",
        "print(train_df.head())\n",
        "print(test_df.head())\n"
      ],
      "metadata": {
        "colab": {
          "base_uri": "https://localhost:8080/"
        },
        "id": "ZS6OkIbz3mXQ",
        "outputId": "c4097934-92fa-47fb-e49b-5d2b4a1b84dd"
      },
      "execution_count": 4,
      "outputs": [
        {
          "output_type": "stream",
          "name": "stdout",
          "text": [
            "Collecting catboost\n",
            "  Downloading catboost-1.2.7-cp310-cp310-manylinux2014_x86_64.whl.metadata (1.2 kB)\n",
            "Requirement already satisfied: graphviz in /usr/local/lib/python3.10/dist-packages (from catboost) (0.20.3)\n",
            "Requirement already satisfied: matplotlib in /usr/local/lib/python3.10/dist-packages (from catboost) (3.7.1)\n",
            "Requirement already satisfied: numpy<2.0,>=1.16.0 in /usr/local/lib/python3.10/dist-packages (from catboost) (1.26.4)\n",
            "Requirement already satisfied: pandas>=0.24 in /usr/local/lib/python3.10/dist-packages (from catboost) (2.2.2)\n",
            "Requirement already satisfied: scipy in /usr/local/lib/python3.10/dist-packages (from catboost) (1.13.1)\n",
            "Requirement already satisfied: plotly in /usr/local/lib/python3.10/dist-packages (from catboost) (5.24.1)\n",
            "Requirement already satisfied: six in /usr/local/lib/python3.10/dist-packages (from catboost) (1.16.0)\n",
            "Requirement already satisfied: python-dateutil>=2.8.2 in /usr/local/lib/python3.10/dist-packages (from pandas>=0.24->catboost) (2.8.2)\n",
            "Requirement already satisfied: pytz>=2020.1 in /usr/local/lib/python3.10/dist-packages (from pandas>=0.24->catboost) (2024.2)\n",
            "Requirement already satisfied: tzdata>=2022.7 in /usr/local/lib/python3.10/dist-packages (from pandas>=0.24->catboost) (2024.2)\n",
            "Requirement already satisfied: contourpy>=1.0.1 in /usr/local/lib/python3.10/dist-packages (from matplotlib->catboost) (1.3.0)\n",
            "Requirement already satisfied: cycler>=0.10 in /usr/local/lib/python3.10/dist-packages (from matplotlib->catboost) (0.12.1)\n",
            "Requirement already satisfied: fonttools>=4.22.0 in /usr/local/lib/python3.10/dist-packages (from matplotlib->catboost) (4.54.1)\n",
            "Requirement already satisfied: kiwisolver>=1.0.1 in /usr/local/lib/python3.10/dist-packages (from matplotlib->catboost) (1.4.7)\n",
            "Requirement already satisfied: packaging>=20.0 in /usr/local/lib/python3.10/dist-packages (from matplotlib->catboost) (24.1)\n",
            "Requirement already satisfied: pillow>=6.2.0 in /usr/local/lib/python3.10/dist-packages (from matplotlib->catboost) (10.4.0)\n",
            "Requirement already satisfied: pyparsing>=2.3.1 in /usr/local/lib/python3.10/dist-packages (from matplotlib->catboost) (3.1.4)\n",
            "Requirement already satisfied: tenacity>=6.2.0 in /usr/local/lib/python3.10/dist-packages (from plotly->catboost) (9.0.0)\n",
            "Downloading catboost-1.2.7-cp310-cp310-manylinux2014_x86_64.whl (98.7 MB)\n",
            "\u001b[2K   \u001b[90m━━━━━━━━━━━━━━━━━━━━━━━━━━━━━━━━━━━━━━━━\u001b[0m \u001b[32m98.7/98.7 MB\u001b[0m \u001b[31m7.2 MB/s\u001b[0m eta \u001b[36m0:00:00\u001b[0m\n",
            "\u001b[?25hInstalling collected packages: catboost\n",
            "Successfully installed catboost-1.2.7\n"
          ]
        },
        {
          "output_type": "stream",
          "name": "stderr",
          "text": [
            "<ipython-input-4-d4424ed91fdd>:21: FutureWarning: The behavior of 'isin' with dtype=datetime64[ns] and castable values (e.g. strings) is deprecated. In a future version, these will not be considered matching by isin. Explicitly cast to the appropriate dtype before calling isin instead.\n",
            "  train_df['holiday'] = train_df['date'].isin(holidays_df['date'])\n",
            "<ipython-input-4-d4424ed91fdd>:21: SettingWithCopyWarning: \n",
            "A value is trying to be set on a copy of a slice from a DataFrame.\n",
            "Try using .loc[row_indexer,col_indexer] = value instead\n",
            "\n",
            "See the caveats in the documentation: https://pandas.pydata.org/pandas-docs/stable/user_guide/indexing.html#returning-a-view-versus-a-copy\n",
            "  train_df['holiday'] = train_df['date'].isin(holidays_df['date'])\n",
            "<ipython-input-4-d4424ed91fdd>:25: SettingWithCopyWarning: \n",
            "A value is trying to be set on a copy of a slice from a DataFrame.\n",
            "Try using .loc[row_indexer,col_indexer] = value instead\n",
            "\n",
            "See the caveats in the documentation: https://pandas.pydata.org/pandas-docs/stable/user_guide/indexing.html#returning-a-view-versus-a-copy\n",
            "  df['year'] = df['date'].dt.year\n"
          ]
        },
        {
          "output_type": "stream",
          "name": "stdout",
          "text": [
            "              id  store_nbr  sales  onpromotion  holiday  year  month  day  \\\n",
            "2596374  2596374          1    0.0            0     True  2017      1    1   \n",
            "2596375  2596375          1    0.0            0     True  2017      1    1   \n",
            "2596376  2596376          1    0.0            0     True  2017      1    1   \n",
            "2596377  2596377          1    0.0            0     True  2017      1    1   \n",
            "2596378  2596378          1    0.0            0     True  2017      1    1   \n",
            "\n",
            "         weekday  family_BABY CARE  ...  family_MAGAZINES  family_MEATS  \\\n",
            "2596374        6             False  ...             False         False   \n",
            "2596375        6              True  ...             False         False   \n",
            "2596376        6             False  ...             False         False   \n",
            "2596377        6             False  ...             False         False   \n",
            "2596378        6             False  ...             False         False   \n",
            "\n",
            "         family_PERSONAL CARE  family_PET SUPPLIES  \\\n",
            "2596374                 False                False   \n",
            "2596375                 False                False   \n",
            "2596376                 False                False   \n",
            "2596377                 False                False   \n",
            "2596378                 False                False   \n",
            "\n",
            "         family_PLAYERS AND ELECTRONICS  family_POULTRY  \\\n",
            "2596374                           False           False   \n",
            "2596375                           False           False   \n",
            "2596376                           False           False   \n",
            "2596377                           False           False   \n",
            "2596378                           False           False   \n",
            "\n",
            "         family_PREPARED FOODS  family_PRODUCE  \\\n",
            "2596374                  False           False   \n",
            "2596375                  False           False   \n",
            "2596376                  False           False   \n",
            "2596377                  False           False   \n",
            "2596378                  False           False   \n",
            "\n",
            "         family_SCHOOL AND OFFICE SUPPLIES  family_SEAFOOD  \n",
            "2596374                              False           False  \n",
            "2596375                              False           False  \n",
            "2596376                              False           False  \n",
            "2596377                              False           False  \n",
            "2596378                              False           False  \n",
            "\n",
            "[5 rows x 41 columns]\n",
            "        id  store_nbr  sales  onpromotion  holiday  year  month  day  weekday  \\\n",
            "0  3000888          1      0            0    False  2017      8   16        2   \n",
            "1  3000889          1      0            0    False  2017      8   16        2   \n",
            "2  3000890          1      0            2    False  2017      8   16        2   \n",
            "3  3000891          1      0           20    False  2017      8   16        2   \n",
            "4  3000892          1      0            0    False  2017      8   16        2   \n",
            "\n",
            "   family_BABY CARE  ...  family_MAGAZINES  family_MEATS  \\\n",
            "0             False  ...             False         False   \n",
            "1              True  ...             False         False   \n",
            "2             False  ...             False         False   \n",
            "3             False  ...             False         False   \n",
            "4             False  ...             False         False   \n",
            "\n",
            "   family_PERSONAL CARE  family_PET SUPPLIES  family_PLAYERS AND ELECTRONICS  \\\n",
            "0                 False                False                           False   \n",
            "1                 False                False                           False   \n",
            "2                 False                False                           False   \n",
            "3                 False                False                           False   \n",
            "4                 False                False                           False   \n",
            "\n",
            "   family_POULTRY  family_PREPARED FOODS  family_PRODUCE  \\\n",
            "0           False                  False           False   \n",
            "1           False                  False           False   \n",
            "2           False                  False           False   \n",
            "3           False                  False           False   \n",
            "4           False                  False           False   \n",
            "\n",
            "   family_SCHOOL AND OFFICE SUPPLIES  family_SEAFOOD  \n",
            "0                              False           False  \n",
            "1                              False           False  \n",
            "2                              False           False  \n",
            "3                              False           False  \n",
            "4                              False           False  \n",
            "\n",
            "[5 rows x 41 columns]\n"
          ]
        }
      ]
    },
    {
      "cell_type": "code",
      "source": [
        "X = train_df.drop(columns=['sales'])\n",
        "y = train_df['sales']\n",
        "\n",
        "y_log = np.log1p(y)\n",
        "\n",
        "X_train, X_val, y_train, y_val = train_test_split(X, y_log, test_size=0.2, random_state=42)\n",
        "\n",
        "X_train.columns = X_train.columns.str.replace('[^A-Za-z0-9_]+', '_', regex=True)\n",
        "X_val.columns = X_val.columns.str.replace('[^A-Za-z0-9_]+', '_', regex=True)\n",
        "test_df.columns = test_df.columns.str.replace('[^A-Za-z0-9_]+', '_', regex=True)\n",
        "\n",
        "X_train, test_df = X_train.align(test_df, join='left', axis=1, fill_value=0)\n",
        "X_val, test_df = X_val.align(test_df, join='left', axis=1, fill_value=0)\n",
        "\n",
        "train_pool = Pool(X_train, y_train)\n",
        "val_pool = Pool(X_val, y_val)\n"
      ],
      "metadata": {
        "id": "wT-21XyEws_o"
      },
      "execution_count": 5,
      "outputs": []
    },
    {
      "cell_type": "code",
      "source": [
        "iterations = 100\n",
        "learning_rate = 0.1\n",
        "train_loop_count = 100\n",
        "retrain_loop_count = 10\n"
      ],
      "metadata": {
        "id": "dSOBXclQwtlO"
      },
      "execution_count": 6,
      "outputs": []
    },
    {
      "cell_type": "code",
      "source": [
        "catboost_model = CatBoostRegressor(\n",
        "    iterations=iterations,\n",
        "    learning_rate=learning_rate,\n",
        "    depth=8,\n",
        "    random_seed=42,\n",
        "    loss_function='RMSE',\n",
        "    verbose=100\n",
        ")\n"
      ],
      "metadata": {
        "id": "Upwd8_Bxw2HQ"
      },
      "execution_count": 7,
      "outputs": []
    },
    {
      "cell_type": "code",
      "source": [
        "catboost_model.fit(\n",
        "    train_pool,\n",
        "    eval_set=val_pool,\n",
        "    early_stopping_rounds=50,\n",
        "    verbose=50,\n",
        "    use_best_model=True,\n",
        "    init_model=None\n",
        ")\n",
        "\n",
        "for _ in range(min(train_loop_count, 10)):\n",
        "    catboost_model.fit(\n",
        "        train_pool,\n",
        "        eval_set=val_pool,\n",
        "        early_stopping_rounds=50,\n",
        "        verbose=50,\n",
        "        use_best_model=True,\n",
        "        init_model=catboost_model\n",
        "    )\n"
      ],
      "metadata": {
        "colab": {
          "base_uri": "https://localhost:8080/",
          "height": 1000
        },
        "id": "w4mupmT8xDCR",
        "outputId": "47d98456-13af-4e97-c157-8abf8a7b813b"
      },
      "execution_count": 10,
      "outputs": [
        {
          "output_type": "stream",
          "name": "stdout",
          "text": [
            "0:\tlearn: 2.4564269\ttest: 2.4615474\tbest: 2.4615474 (0)\ttotal: 52.5ms\tremaining: 4m 22s\n",
            "50:\tlearn: 1.0037894\ttest: 1.0113837\tbest: 1.0113837 (50)\ttotal: 2.55s\tremaining: 4m 7s\n",
            "100:\tlearn: 0.8292170\ttest: 0.8353883\tbest: 0.8353883 (100)\ttotal: 5.02s\tremaining: 4m 3s\n",
            "150:\tlearn: 0.7470728\ttest: 0.7520339\tbest: 0.7520339 (150)\ttotal: 8.52s\tremaining: 4m 33s\n",
            "200:\tlearn: 0.6911606\ttest: 0.6951191\tbest: 0.6951191 (200)\ttotal: 11.7s\tremaining: 4m 40s\n",
            "250:\tlearn: 0.6513529\ttest: 0.6544782\tbest: 0.6544782 (250)\ttotal: 14.2s\tremaining: 4m 29s\n",
            "300:\tlearn: 0.6197252\ttest: 0.6224639\tbest: 0.6224639 (300)\ttotal: 16.7s\tremaining: 4m 21s\n",
            "350:\tlearn: 0.5971624\ttest: 0.5997525\tbest: 0.5997525 (350)\ttotal: 19.2s\tremaining: 4m 14s\n",
            "400:\tlearn: 0.5786458\ttest: 0.5816913\tbest: 0.5816913 (400)\ttotal: 23.5s\tremaining: 4m 29s\n",
            "450:\tlearn: 0.5631369\ttest: 0.5661167\tbest: 0.5661167 (450)\ttotal: 26s\tremaining: 4m 22s\n",
            "500:\tlearn: 0.5496231\ttest: 0.5528963\tbest: 0.5528963 (500)\ttotal: 28.5s\tremaining: 4m 15s\n",
            "550:\tlearn: 0.5381047\ttest: 0.5415306\tbest: 0.5415306 (550)\ttotal: 31s\tremaining: 4m 10s\n",
            "600:\tlearn: 0.5288032\ttest: 0.5324130\tbest: 0.5324130 (600)\ttotal: 33.6s\tremaining: 4m 6s\n",
            "650:\tlearn: 0.5203707\ttest: 0.5241334\tbest: 0.5241334 (650)\ttotal: 37.7s\tremaining: 4m 11s\n",
            "700:\tlearn: 0.5130708\ttest: 0.5169487\tbest: 0.5169487 (700)\ttotal: 40.2s\tremaining: 4m 6s\n",
            "750:\tlearn: 0.5062641\ttest: 0.5101315\tbest: 0.5101315 (750)\ttotal: 42.7s\tremaining: 4m 1s\n",
            "800:\tlearn: 0.4997971\ttest: 0.5039903\tbest: 0.5039903 (800)\ttotal: 45.1s\tremaining: 3m 56s\n",
            "850:\tlearn: 0.4942652\ttest: 0.4985605\tbest: 0.4985605 (850)\ttotal: 51.9s\tremaining: 4m 12s\n",
            "900:\tlearn: 0.4889898\ttest: 0.4935015\tbest: 0.4935015 (900)\ttotal: 57.7s\tremaining: 4m 22s\n",
            "950:\tlearn: 0.4841220\ttest: 0.4887494\tbest: 0.4887494 (950)\ttotal: 1m 3s\tremaining: 4m 29s\n",
            "1000:\tlearn: 0.4799829\ttest: 0.4847428\tbest: 0.4847428 (1000)\ttotal: 1m 5s\tremaining: 4m 23s\n",
            "1050:\tlearn: 0.4757492\ttest: 0.4805644\tbest: 0.4805644 (1050)\ttotal: 1m 8s\tremaining: 4m 17s\n",
            "1100:\tlearn: 0.4718367\ttest: 0.4768537\tbest: 0.4768537 (1100)\ttotal: 1m 10s\tremaining: 4m 11s\n",
            "1150:\tlearn: 0.4684564\ttest: 0.4735719\tbest: 0.4735719 (1150)\ttotal: 1m 13s\tremaining: 4m 5s\n",
            "1200:\tlearn: 0.4651150\ttest: 0.4703697\tbest: 0.4703697 (1200)\ttotal: 1m 17s\tremaining: 4m 5s\n",
            "1250:\tlearn: 0.4621766\ttest: 0.4675640\tbest: 0.4675640 (1250)\ttotal: 1m 20s\tremaining: 4m\n",
            "1300:\tlearn: 0.4591191\ttest: 0.4647176\tbest: 0.4647176 (1300)\ttotal: 1m 22s\tremaining: 3m 54s\n",
            "1350:\tlearn: 0.4564769\ttest: 0.4621435\tbest: 0.4621435 (1350)\ttotal: 1m 25s\tremaining: 3m 49s\n",
            "1400:\tlearn: 0.4537369\ttest: 0.4595344\tbest: 0.4595344 (1400)\ttotal: 1m 28s\tremaining: 3m 46s\n",
            "1450:\tlearn: 0.4514566\ttest: 0.4574019\tbest: 0.4574019 (1450)\ttotal: 1m 31s\tremaining: 3m 44s\n",
            "1500:\tlearn: 0.4490169\ttest: 0.4550342\tbest: 0.4550342 (1500)\ttotal: 1m 34s\tremaining: 3m 39s\n",
            "1550:\tlearn: 0.4465796\ttest: 0.4527509\tbest: 0.4527509 (1550)\ttotal: 1m 36s\tremaining: 3m 35s\n",
            "1600:\tlearn: 0.4443508\ttest: 0.4506533\tbest: 0.4506533 (1600)\ttotal: 1m 39s\tremaining: 3m 30s\n",
            "1650:\tlearn: 0.4422134\ttest: 0.4485924\tbest: 0.4485924 (1650)\ttotal: 1m 43s\tremaining: 3m 29s\n",
            "1700:\tlearn: 0.4400901\ttest: 0.4466089\tbest: 0.4466089 (1700)\ttotal: 1m 46s\tremaining: 3m 26s\n",
            "1750:\tlearn: 0.4378396\ttest: 0.4444665\tbest: 0.4444665 (1750)\ttotal: 1m 48s\tremaining: 3m 22s\n",
            "1800:\tlearn: 0.4359231\ttest: 0.4426421\tbest: 0.4426421 (1800)\ttotal: 1m 51s\tremaining: 3m 17s\n",
            "1850:\tlearn: 0.4340517\ttest: 0.4408086\tbest: 0.4408086 (1850)\ttotal: 1m 54s\tremaining: 3m 14s\n",
            "1900:\tlearn: 0.4323124\ttest: 0.4391575\tbest: 0.4391575 (1900)\ttotal: 1m 58s\tremaining: 3m 12s\n",
            "1950:\tlearn: 0.4306049\ttest: 0.4375266\tbest: 0.4375266 (1950)\ttotal: 2m\tremaining: 3m 8s\n",
            "2000:\tlearn: 0.4289375\ttest: 0.4359237\tbest: 0.4359237 (2000)\ttotal: 2m 3s\tremaining: 3m 5s\n",
            "2050:\tlearn: 0.4273358\ttest: 0.4343860\tbest: 0.4343860 (2050)\ttotal: 2m 7s\tremaining: 3m 3s\n",
            "2100:\tlearn: 0.4258134\ttest: 0.4329577\tbest: 0.4329577 (2100)\ttotal: 2m 11s\tremaining: 3m 1s\n",
            "2150:\tlearn: 0.4241760\ttest: 0.4314631\tbest: 0.4314631 (2150)\ttotal: 2m 13s\tremaining: 2m 57s\n",
            "2200:\tlearn: 0.4226513\ttest: 0.4300341\tbest: 0.4300341 (2200)\ttotal: 2m 16s\tremaining: 2m 53s\n",
            "2250:\tlearn: 0.4213265\ttest: 0.4288098\tbest: 0.4288098 (2250)\ttotal: 2m 18s\tremaining: 2m 49s\n",
            "2300:\tlearn: 0.4200460\ttest: 0.4276626\tbest: 0.4276626 (2300)\ttotal: 2m 22s\tremaining: 2m 47s\n",
            "2350:\tlearn: 0.4188490\ttest: 0.4265808\tbest: 0.4265808 (2350)\ttotal: 2m 25s\tremaining: 2m 44s\n",
            "2400:\tlearn: 0.4175560\ttest: 0.4253954\tbest: 0.4253954 (2400)\ttotal: 2m 28s\tremaining: 2m 40s\n",
            "2450:\tlearn: 0.4163258\ttest: 0.4243101\tbest: 0.4243101 (2450)\ttotal: 2m 32s\tremaining: 2m 38s\n",
            "2500:\tlearn: 0.4152185\ttest: 0.4233165\tbest: 0.4233165 (2500)\ttotal: 2m 37s\tremaining: 2m 37s\n",
            "2550:\tlearn: 0.4140495\ttest: 0.4222599\tbest: 0.4222599 (2550)\ttotal: 2m 40s\tremaining: 2m 33s\n",
            "2600:\tlearn: 0.4129133\ttest: 0.4212083\tbest: 0.4212083 (2600)\ttotal: 2m 42s\tremaining: 2m 30s\n",
            "2650:\tlearn: 0.4118885\ttest: 0.4203387\tbest: 0.4203387 (2650)\ttotal: 2m 45s\tremaining: 2m 26s\n",
            "2700:\tlearn: 0.4108786\ttest: 0.4194294\tbest: 0.4194294 (2700)\ttotal: 2m 48s\tremaining: 2m 23s\n",
            "2750:\tlearn: 0.4099211\ttest: 0.4185639\tbest: 0.4185639 (2750)\ttotal: 2m 51s\tremaining: 2m 20s\n",
            "2800:\tlearn: 0.4089608\ttest: 0.4177497\tbest: 0.4177497 (2800)\ttotal: 2m 54s\tremaining: 2m 16s\n",
            "2850:\tlearn: 0.4080686\ttest: 0.4170055\tbest: 0.4170055 (2850)\ttotal: 2m 56s\tremaining: 2m 13s\n",
            "2900:\tlearn: 0.4071695\ttest: 0.4162186\tbest: 0.4162186 (2900)\ttotal: 2m 59s\tremaining: 2m 9s\n",
            "2950:\tlearn: 0.4062719\ttest: 0.4154184\tbest: 0.4154184 (2950)\ttotal: 3m 3s\tremaining: 2m 7s\n",
            "3000:\tlearn: 0.4053655\ttest: 0.4146377\tbest: 0.4146377 (3000)\ttotal: 3m 6s\tremaining: 2m 4s\n",
            "3050:\tlearn: 0.4045523\ttest: 0.4139322\tbest: 0.4139322 (3050)\ttotal: 3m 8s\tremaining: 2m\n",
            "3100:\tlearn: 0.4037339\ttest: 0.4132141\tbest: 0.4132141 (3100)\ttotal: 3m 11s\tremaining: 1m 57s\n",
            "3150:\tlearn: 0.4029153\ttest: 0.4125499\tbest: 0.4125499 (3150)\ttotal: 3m 14s\tremaining: 1m 53s\n",
            "3200:\tlearn: 0.4021656\ttest: 0.4119161\tbest: 0.4119161 (3200)\ttotal: 3m 18s\tremaining: 1m 51s\n",
            "3250:\tlearn: 0.4013994\ttest: 0.4112473\tbest: 0.4112473 (3250)\ttotal: 3m 20s\tremaining: 1m 47s\n",
            "3300:\tlearn: 0.4006130\ttest: 0.4105287\tbest: 0.4105287 (3300)\ttotal: 3m 23s\tremaining: 1m 44s\n",
            "3350:\tlearn: 0.3998850\ttest: 0.4099110\tbest: 0.4099110 (3350)\ttotal: 3m 25s\tremaining: 1m 41s\n",
            "3400:\tlearn: 0.3991249\ttest: 0.4092884\tbest: 0.4092884 (3400)\ttotal: 3m 29s\tremaining: 1m 38s\n",
            "3450:\tlearn: 0.3983850\ttest: 0.4086534\tbest: 0.4086534 (3450)\ttotal: 3m 32s\tremaining: 1m 35s\n",
            "3500:\tlearn: 0.3976878\ttest: 0.4080521\tbest: 0.4080521 (3500)\ttotal: 3m 35s\tremaining: 1m 32s\n",
            "3550:\tlearn: 0.3969838\ttest: 0.4074625\tbest: 0.4074625 (3550)\ttotal: 3m 37s\tremaining: 1m 28s\n",
            "3600:\tlearn: 0.3962908\ttest: 0.4068671\tbest: 0.4068671 (3600)\ttotal: 3m 40s\tremaining: 1m 25s\n",
            "3650:\tlearn: 0.3956389\ttest: 0.4063207\tbest: 0.4063207 (3650)\ttotal: 3m 44s\tremaining: 1m 22s\n",
            "3700:\tlearn: 0.3950214\ttest: 0.4058584\tbest: 0.4058584 (3700)\ttotal: 3m 46s\tremaining: 1m 19s\n",
            "3750:\tlearn: 0.3944006\ttest: 0.4053780\tbest: 0.4053780 (3750)\ttotal: 3m 49s\tremaining: 1m 16s\n",
            "3800:\tlearn: 0.3937671\ttest: 0.4048678\tbest: 0.4048678 (3800)\ttotal: 3m 51s\tremaining: 1m 13s\n",
            "3850:\tlearn: 0.3931432\ttest: 0.4043639\tbest: 0.4043639 (3850)\ttotal: 3m 55s\tremaining: 1m 10s\n",
            "3900:\tlearn: 0.3926109\ttest: 0.4039736\tbest: 0.4039736 (3900)\ttotal: 3m 58s\tremaining: 1m 7s\n",
            "3950:\tlearn: 0.3920439\ttest: 0.4035714\tbest: 0.4035714 (3950)\ttotal: 4m 1s\tremaining: 1m 4s\n",
            "4000:\tlearn: 0.3914766\ttest: 0.4031059\tbest: 0.4031059 (4000)\ttotal: 4m 3s\tremaining: 1m\n",
            "4050:\tlearn: 0.3908892\ttest: 0.4026279\tbest: 0.4026279 (4050)\ttotal: 4m 6s\tremaining: 57.7s\n",
            "4100:\tlearn: 0.3903848\ttest: 0.4022645\tbest: 0.4022645 (4100)\ttotal: 4m 10s\tremaining: 54.9s\n",
            "4150:\tlearn: 0.3898427\ttest: 0.4018048\tbest: 0.4018048 (4150)\ttotal: 4m 13s\tremaining: 51.8s\n",
            "4200:\tlearn: 0.3892829\ttest: 0.4013736\tbest: 0.4013736 (4200)\ttotal: 4m 15s\tremaining: 48.6s\n",
            "4250:\tlearn: 0.3887409\ttest: 0.4009741\tbest: 0.4009741 (4250)\ttotal: 4m 18s\tremaining: 45.5s\n",
            "4300:\tlearn: 0.3882049\ttest: 0.4005467\tbest: 0.4005467 (4300)\ttotal: 4m 21s\tremaining: 42.5s\n",
            "4350:\tlearn: 0.3876963\ttest: 0.4001834\tbest: 0.4001834 (4350)\ttotal: 4m 25s\tremaining: 39.5s\n",
            "4400:\tlearn: 0.3871955\ttest: 0.3998326\tbest: 0.3998326 (4400)\ttotal: 4m 27s\tremaining: 36.4s\n",
            "4450:\tlearn: 0.3867240\ttest: 0.3994789\tbest: 0.3994789 (4450)\ttotal: 4m 30s\tremaining: 33.3s\n",
            "4500:\tlearn: 0.3862450\ttest: 0.3991150\tbest: 0.3991150 (4500)\ttotal: 4m 32s\tremaining: 30.2s\n",
            "4550:\tlearn: 0.3857551\ttest: 0.3987528\tbest: 0.3987528 (4550)\ttotal: 4m 36s\tremaining: 27.3s\n",
            "4600:\tlearn: 0.3852971\ttest: 0.3984277\tbest: 0.3984277 (4600)\ttotal: 4m 39s\tremaining: 24.2s\n",
            "4650:\tlearn: 0.3848225\ttest: 0.3980870\tbest: 0.3980870 (4650)\ttotal: 4m 41s\tremaining: 21.2s\n",
            "4700:\tlearn: 0.3843577\ttest: 0.3977274\tbest: 0.3977274 (4700)\ttotal: 4m 44s\tremaining: 18.1s\n",
            "4750:\tlearn: 0.3838505\ttest: 0.3973188\tbest: 0.3973188 (4750)\ttotal: 4m 47s\tremaining: 15.1s\n",
            "4800:\tlearn: 0.3834242\ttest: 0.3970050\tbest: 0.3970050 (4800)\ttotal: 4m 51s\tremaining: 12.1s\n",
            "4850:\tlearn: 0.3829822\ttest: 0.3966809\tbest: 0.3966809 (4850)\ttotal: 4m 53s\tremaining: 9.02s\n",
            "4900:\tlearn: 0.3825499\ttest: 0.3963568\tbest: 0.3963568 (4900)\ttotal: 4m 56s\tremaining: 5.98s\n",
            "4950:\tlearn: 0.3821039\ttest: 0.3960507\tbest: 0.3960507 (4950)\ttotal: 4m 58s\tremaining: 2.96s\n",
            "4999:\tlearn: 0.3816870\ttest: 0.3957345\tbest: 0.3957345 (4999)\ttotal: 5m 2s\tremaining: 0us\n",
            "\n",
            "bestTest = 0.3957345213\n",
            "bestIteration = 4999\n",
            "\n",
            "0:\tlearn: 0.3816821\ttest: 0.3957307\tbest: 0.3957307 (0)\ttotal: 49.4ms\tremaining: 4m 7s\n",
            "50:\tlearn: 0.3812655\ttest: 0.3954250\tbest: 0.3954250 (50)\ttotal: 2.57s\tremaining: 4m 9s\n",
            "100:\tlearn: 0.3808566\ttest: 0.3951444\tbest: 0.3951444 (100)\ttotal: 5.09s\tremaining: 4m 6s\n",
            "150:\tlearn: 0.3804874\ttest: 0.3948525\tbest: 0.3948525 (150)\ttotal: 7.61s\tremaining: 4m 4s\n",
            "200:\tlearn: 0.3801090\ttest: 0.3945785\tbest: 0.3945785 (200)\ttotal: 11.3s\tremaining: 4m 29s\n",
            "250:\tlearn: 0.3796777\ttest: 0.3942290\tbest: 0.3942290 (250)\ttotal: 14.4s\tremaining: 4m 33s\n",
            "300:\tlearn: 0.3792885\ttest: 0.3939739\tbest: 0.3939739 (300)\ttotal: 17s\tremaining: 4m 25s\n",
            "350:\tlearn: 0.3789058\ttest: 0.3937153\tbest: 0.3937153 (350)\ttotal: 19.5s\tremaining: 4m 18s\n",
            "400:\tlearn: 0.3784919\ttest: 0.3934372\tbest: 0.3934372 (400)\ttotal: 22.1s\tremaining: 4m 13s\n"
          ]
        },
        {
          "output_type": "error",
          "ename": "KeyboardInterrupt",
          "evalue": "",
          "traceback": [
            "\u001b[0;31m---------------------------------------------------------------------------\u001b[0m",
            "\u001b[0;31mKeyboardInterrupt\u001b[0m                         Traceback (most recent call last)",
            "\u001b[0;32m<ipython-input-10-3103224f772f>\u001b[0m in \u001b[0;36m<cell line: 10>\u001b[0;34m()\u001b[0m\n\u001b[1;32m      9\u001b[0m \u001b[0;34m\u001b[0m\u001b[0m\n\u001b[1;32m     10\u001b[0m \u001b[0;32mfor\u001b[0m \u001b[0m_\u001b[0m \u001b[0;32min\u001b[0m \u001b[0mrange\u001b[0m\u001b[0;34m(\u001b[0m\u001b[0mmin\u001b[0m\u001b[0;34m(\u001b[0m\u001b[0mtrain_loop_count\u001b[0m\u001b[0;34m,\u001b[0m \u001b[0;36m10\u001b[0m\u001b[0;34m)\u001b[0m\u001b[0;34m)\u001b[0m\u001b[0;34m:\u001b[0m\u001b[0;34m\u001b[0m\u001b[0;34m\u001b[0m\u001b[0m\n\u001b[0;32m---> 11\u001b[0;31m     catboost_model.fit(\n\u001b[0m\u001b[1;32m     12\u001b[0m         \u001b[0mtrain_pool\u001b[0m\u001b[0;34m,\u001b[0m\u001b[0;34m\u001b[0m\u001b[0;34m\u001b[0m\u001b[0m\n\u001b[1;32m     13\u001b[0m         \u001b[0meval_set\u001b[0m\u001b[0;34m=\u001b[0m\u001b[0mval_pool\u001b[0m\u001b[0;34m,\u001b[0m\u001b[0;34m\u001b[0m\u001b[0;34m\u001b[0m\u001b[0m\n",
            "\u001b[0;32m/usr/local/lib/python3.10/dist-packages/catboost/core.py\u001b[0m in \u001b[0;36mfit\u001b[0;34m(self, X, y, cat_features, text_features, embedding_features, graph, sample_weight, baseline, use_best_model, eval_set, verbose, logging_level, plot, plot_file, column_description, verbose_eval, metric_period, silent, early_stopping_rounds, save_snapshot, snapshot_file, snapshot_interval, init_model, callbacks, log_cout, log_cerr)\u001b[0m\n\u001b[1;32m   5871\u001b[0m         \u001b[0;32mif\u001b[0m \u001b[0;34m'loss_function'\u001b[0m \u001b[0;32min\u001b[0m \u001b[0mparams\u001b[0m\u001b[0;34m:\u001b[0m\u001b[0;34m\u001b[0m\u001b[0;34m\u001b[0m\u001b[0m\n\u001b[1;32m   5872\u001b[0m             \u001b[0mCatBoostRegressor\u001b[0m\u001b[0;34m.\u001b[0m\u001b[0m_check_is_compatible_loss\u001b[0m\u001b[0;34m(\u001b[0m\u001b[0mparams\u001b[0m\u001b[0;34m[\u001b[0m\u001b[0;34m'loss_function'\u001b[0m\u001b[0;34m]\u001b[0m\u001b[0;34m)\u001b[0m\u001b[0;34m\u001b[0m\u001b[0;34m\u001b[0m\u001b[0m\n\u001b[0;32m-> 5873\u001b[0;31m         return self._fit(X, y, cat_features, text_features, embedding_features, None, graph, sample_weight, None, None, None, None, baseline,\n\u001b[0m\u001b[1;32m   5874\u001b[0m                          \u001b[0muse_best_model\u001b[0m\u001b[0;34m,\u001b[0m \u001b[0meval_set\u001b[0m\u001b[0;34m,\u001b[0m \u001b[0mverbose\u001b[0m\u001b[0;34m,\u001b[0m \u001b[0mlogging_level\u001b[0m\u001b[0;34m,\u001b[0m \u001b[0mplot\u001b[0m\u001b[0;34m,\u001b[0m \u001b[0mplot_file\u001b[0m\u001b[0;34m,\u001b[0m \u001b[0mcolumn_description\u001b[0m\u001b[0;34m,\u001b[0m\u001b[0;34m\u001b[0m\u001b[0;34m\u001b[0m\u001b[0m\n\u001b[1;32m   5875\u001b[0m                          \u001b[0mverbose_eval\u001b[0m\u001b[0;34m,\u001b[0m \u001b[0mmetric_period\u001b[0m\u001b[0;34m,\u001b[0m \u001b[0msilent\u001b[0m\u001b[0;34m,\u001b[0m \u001b[0mearly_stopping_rounds\u001b[0m\u001b[0;34m,\u001b[0m\u001b[0;34m\u001b[0m\u001b[0;34m\u001b[0m\u001b[0m\n",
            "\u001b[0;32m/usr/local/lib/python3.10/dist-packages/catboost/core.py\u001b[0m in \u001b[0;36m_fit\u001b[0;34m(self, X, y, cat_features, text_features, embedding_features, pairs, graph, sample_weight, group_id, group_weight, subgroup_id, pairs_weight, baseline, use_best_model, eval_set, verbose, logging_level, plot, plot_file, column_description, verbose_eval, metric_period, silent, early_stopping_rounds, save_snapshot, snapshot_file, snapshot_interval, init_model, callbacks, log_cout, log_cerr)\u001b[0m\n\u001b[1;32m   2408\u001b[0m \u001b[0;34m\u001b[0m\u001b[0m\n\u001b[1;32m   2409\u001b[0m             \u001b[0;32mwith\u001b[0m \u001b[0mplot_wrapper\u001b[0m\u001b[0;34m(\u001b[0m\u001b[0mplot\u001b[0m\u001b[0;34m,\u001b[0m \u001b[0mplot_file\u001b[0m\u001b[0;34m,\u001b[0m \u001b[0;34m'Training plots'\u001b[0m\u001b[0;34m,\u001b[0m \u001b[0;34m[\u001b[0m\u001b[0m_get_train_dir\u001b[0m\u001b[0;34m(\u001b[0m\u001b[0mself\u001b[0m\u001b[0;34m.\u001b[0m\u001b[0mget_params\u001b[0m\u001b[0;34m(\u001b[0m\u001b[0;34m)\u001b[0m\u001b[0;34m)\u001b[0m\u001b[0;34m]\u001b[0m\u001b[0;34m)\u001b[0m\u001b[0;34m:\u001b[0m\u001b[0;34m\u001b[0m\u001b[0;34m\u001b[0m\u001b[0m\n\u001b[0;32m-> 2410\u001b[0;31m                 self._train(\n\u001b[0m\u001b[1;32m   2411\u001b[0m                     \u001b[0mtrain_pool\u001b[0m\u001b[0;34m,\u001b[0m\u001b[0;34m\u001b[0m\u001b[0;34m\u001b[0m\u001b[0m\n\u001b[1;32m   2412\u001b[0m                     \u001b[0mtrain_params\u001b[0m\u001b[0;34m[\u001b[0m\u001b[0;34m\"eval_sets\"\u001b[0m\u001b[0;34m]\u001b[0m\u001b[0;34m,\u001b[0m\u001b[0;34m\u001b[0m\u001b[0;34m\u001b[0m\u001b[0m\n",
            "\u001b[0;32m/usr/local/lib/python3.10/dist-packages/catboost/core.py\u001b[0m in \u001b[0;36m_train\u001b[0;34m(self, train_pool, test_pool, params, allow_clear_pool, init_model)\u001b[0m\n\u001b[1;32m   1788\u001b[0m \u001b[0;34m\u001b[0m\u001b[0m\n\u001b[1;32m   1789\u001b[0m     \u001b[0;32mdef\u001b[0m \u001b[0m_train\u001b[0m\u001b[0;34m(\u001b[0m\u001b[0mself\u001b[0m\u001b[0;34m,\u001b[0m \u001b[0mtrain_pool\u001b[0m\u001b[0;34m,\u001b[0m \u001b[0mtest_pool\u001b[0m\u001b[0;34m,\u001b[0m \u001b[0mparams\u001b[0m\u001b[0;34m,\u001b[0m \u001b[0mallow_clear_pool\u001b[0m\u001b[0;34m,\u001b[0m \u001b[0minit_model\u001b[0m\u001b[0;34m)\u001b[0m\u001b[0;34m:\u001b[0m\u001b[0;34m\u001b[0m\u001b[0;34m\u001b[0m\u001b[0m\n\u001b[0;32m-> 1790\u001b[0;31m         \u001b[0mself\u001b[0m\u001b[0;34m.\u001b[0m\u001b[0m_object\u001b[0m\u001b[0;34m.\u001b[0m\u001b[0m_train\u001b[0m\u001b[0;34m(\u001b[0m\u001b[0mtrain_pool\u001b[0m\u001b[0;34m,\u001b[0m \u001b[0mtest_pool\u001b[0m\u001b[0;34m,\u001b[0m \u001b[0mparams\u001b[0m\u001b[0;34m,\u001b[0m \u001b[0mallow_clear_pool\u001b[0m\u001b[0;34m,\u001b[0m \u001b[0minit_model\u001b[0m\u001b[0;34m.\u001b[0m\u001b[0m_object\u001b[0m \u001b[0;32mif\u001b[0m \u001b[0minit_model\u001b[0m \u001b[0;32melse\u001b[0m \u001b[0;32mNone\u001b[0m\u001b[0;34m)\u001b[0m\u001b[0;34m\u001b[0m\u001b[0;34m\u001b[0m\u001b[0m\n\u001b[0m\u001b[1;32m   1791\u001b[0m         \u001b[0mself\u001b[0m\u001b[0;34m.\u001b[0m\u001b[0m_set_trained_model_attributes\u001b[0m\u001b[0;34m(\u001b[0m\u001b[0;34m)\u001b[0m\u001b[0;34m\u001b[0m\u001b[0;34m\u001b[0m\u001b[0m\n\u001b[1;32m   1792\u001b[0m \u001b[0;34m\u001b[0m\u001b[0m\n",
            "\u001b[0;32m_catboost.pyx\u001b[0m in \u001b[0;36m_catboost._CatBoost._train\u001b[0;34m()\u001b[0m\n",
            "\u001b[0;32m_catboost.pyx\u001b[0m in \u001b[0;36m_catboost._CatBoost._train\u001b[0;34m()\u001b[0m\n",
            "\u001b[0;31mKeyboardInterrupt\u001b[0m: "
          ]
        }
      ]
    },
    {
      "cell_type": "code",
      "source": [
        "from catboost import Pool\n",
        "\n",
        "august_pool = Pool(data=X_train, label=y_train)\n",
        "\n",
        "for _ in range(retrain_loop_count):\n",
        "    catboost_model.fit(\n",
        "        august_pool,\n",
        "        verbose=50,\n",
        "        init_model=catboost_model\n",
        "    )\n"
      ],
      "metadata": {
        "colab": {
          "base_uri": "https://localhost:8080/",
          "height": 1000
        },
        "id": "L6pxk4ZfxEOx",
        "outputId": "1d27b538-5a94-4887-b390-a5d21ef3f4cd"
      },
      "execution_count": 11,
      "outputs": [
        {
          "output_type": "stream",
          "name": "stdout",
          "text": [
            "0:\tlearn: 0.3816726\ttotal: 50ms\tremaining: 4m 9s\n",
            "50:\tlearn: 0.3813423\ttotal: 2.52s\tremaining: 4m 4s\n",
            "100:\tlearn: 0.3810366\ttotal: 6.75s\tremaining: 5m 27s\n",
            "150:\tlearn: 0.3807043\ttotal: 9.24s\tremaining: 4m 56s\n",
            "200:\tlearn: 0.3804033\ttotal: 11.7s\tremaining: 4m 39s\n",
            "250:\tlearn: 0.3800850\ttotal: 14.1s\tremaining: 4m 27s\n",
            "300:\tlearn: 0.3796941\ttotal: 17.2s\tremaining: 4m 28s\n",
            "350:\tlearn: 0.3793108\ttotal: 20.8s\tremaining: 4m 35s\n",
            "400:\tlearn: 0.3789043\ttotal: 23.3s\tremaining: 4m 27s\n",
            "450:\tlearn: 0.3785009\ttotal: 25.8s\tremaining: 4m 20s\n",
            "500:\tlearn: 0.3781529\ttotal: 28.2s\tremaining: 4m 13s\n",
            "550:\tlearn: 0.3777938\ttotal: 32.3s\tremaining: 4m 20s\n",
            "600:\tlearn: 0.3774264\ttotal: 34.9s\tremaining: 4m 15s\n",
            "650:\tlearn: 0.3770920\ttotal: 37.4s\tremaining: 4m 9s\n",
            "700:\tlearn: 0.3767219\ttotal: 39.9s\tremaining: 4m 4s\n",
            "750:\tlearn: 0.3763723\ttotal: 42.4s\tremaining: 3m 59s\n",
            "800:\tlearn: 0.3760415\ttotal: 46.6s\tremaining: 4m 4s\n",
            "850:\tlearn: 0.3757069\ttotal: 49s\tremaining: 3m 59s\n",
            "900:\tlearn: 0.3753646\ttotal: 51.5s\tremaining: 3m 54s\n",
            "950:\tlearn: 0.3749991\ttotal: 54s\tremaining: 3m 49s\n",
            "1000:\tlearn: 0.3746765\ttotal: 57.2s\tremaining: 3m 48s\n",
            "1050:\tlearn: 0.3743734\ttotal: 1m\tremaining: 3m 48s\n",
            "1100:\tlearn: 0.3740060\ttotal: 1m 3s\tremaining: 3m 43s\n",
            "1150:\tlearn: 0.3736766\ttotal: 1m 5s\tremaining: 3m 39s\n",
            "1200:\tlearn: 0.3733431\ttotal: 1m 8s\tremaining: 3m 35s\n",
            "1250:\tlearn: 0.3730063\ttotal: 1m 12s\tremaining: 3m 36s\n",
            "1300:\tlearn: 0.3726915\ttotal: 1m 14s\tremaining: 3m 32s\n",
            "1350:\tlearn: 0.3723619\ttotal: 1m 17s\tremaining: 3m 28s\n",
            "1400:\tlearn: 0.3720572\ttotal: 1m 19s\tremaining: 3m 24s\n",
            "1450:\tlearn: 0.3717481\ttotal: 1m 22s\tremaining: 3m 21s\n",
            "1500:\tlearn: 0.3714306\ttotal: 1m 26s\tremaining: 3m 21s\n",
            "1550:\tlearn: 0.3711244\ttotal: 1m 29s\tremaining: 3m 17s\n",
            "1600:\tlearn: 0.3708290\ttotal: 1m 31s\tremaining: 3m 14s\n",
            "1650:\tlearn: 0.3705032\ttotal: 1m 33s\tremaining: 3m 10s\n",
            "1700:\tlearn: 0.3702332\ttotal: 1m 37s\tremaining: 3m 8s\n",
            "1750:\tlearn: 0.3699575\ttotal: 1m 40s\tremaining: 3m 6s\n",
            "1800:\tlearn: 0.3696761\ttotal: 1m 43s\tremaining: 3m 3s\n",
            "1850:\tlearn: 0.3693892\ttotal: 1m 45s\tremaining: 2m 59s\n",
            "1900:\tlearn: 0.3691105\ttotal: 1m 48s\tremaining: 2m 56s\n",
            "1950:\tlearn: 0.3688427\ttotal: 1m 52s\tremaining: 2m 55s\n",
            "2000:\tlearn: 0.3685806\ttotal: 1m 54s\tremaining: 2m 52s\n",
            "2050:\tlearn: 0.3683288\ttotal: 1m 57s\tremaining: 2m 48s\n",
            "2100:\tlearn: 0.3680854\ttotal: 1m 59s\tremaining: 2m 45s\n",
            "2150:\tlearn: 0.3678133\ttotal: 2m 2s\tremaining: 2m 41s\n",
            "2200:\tlearn: 0.3675316\ttotal: 2m 6s\tremaining: 2m 40s\n",
            "2250:\tlearn: 0.3672836\ttotal: 2m 8s\tremaining: 2m 37s\n",
            "2300:\tlearn: 0.3670113\ttotal: 2m 11s\tremaining: 2m 34s\n",
            "2350:\tlearn: 0.3667661\ttotal: 2m 13s\tremaining: 2m 30s\n",
            "2400:\tlearn: 0.3665214\ttotal: 2m 17s\tremaining: 2m 28s\n",
            "2450:\tlearn: 0.3662505\ttotal: 2m 20s\tremaining: 2m 26s\n",
            "2500:\tlearn: 0.3659954\ttotal: 2m 23s\tremaining: 2m 23s\n",
            "2550:\tlearn: 0.3657497\ttotal: 2m 25s\tremaining: 2m 19s\n",
            "2600:\tlearn: 0.3655114\ttotal: 2m 28s\tremaining: 2m 16s\n",
            "2650:\tlearn: 0.3652758\ttotal: 2m 32s\tremaining: 2m 14s\n",
            "2700:\tlearn: 0.3650375\ttotal: 2m 34s\tremaining: 2m 11s\n",
            "2750:\tlearn: 0.3647929\ttotal: 2m 37s\tremaining: 2m 8s\n",
            "2800:\tlearn: 0.3645413\ttotal: 2m 39s\tremaining: 2m 5s\n",
            "2850:\tlearn: 0.3643148\ttotal: 2m 42s\tremaining: 2m 2s\n",
            "2900:\tlearn: 0.3640768\ttotal: 2m 46s\tremaining: 2m\n",
            "2950:\tlearn: 0.3638663\ttotal: 2m 48s\tremaining: 1m 57s\n",
            "3000:\tlearn: 0.3636386\ttotal: 2m 51s\tremaining: 1m 54s\n",
            "3050:\tlearn: 0.3634328\ttotal: 2m 53s\tremaining: 1m 51s\n",
            "3100:\tlearn: 0.3631929\ttotal: 2m 57s\tremaining: 1m 48s\n",
            "3150:\tlearn: 0.3629612\ttotal: 3m\tremaining: 1m 45s\n",
            "3200:\tlearn: 0.3627413\ttotal: 3m 2s\tremaining: 1m 42s\n",
            "3250:\tlearn: 0.3625272\ttotal: 3m 5s\tremaining: 1m 39s\n",
            "3300:\tlearn: 0.3623169\ttotal: 3m 7s\tremaining: 1m 36s\n",
            "3350:\tlearn: 0.3621230\ttotal: 3m 12s\tremaining: 1m 34s\n",
            "3400:\tlearn: 0.3619139\ttotal: 3m 14s\tremaining: 1m 31s\n",
            "3450:\tlearn: 0.3616897\ttotal: 3m 17s\tremaining: 1m 28s\n",
            "3500:\tlearn: 0.3614821\ttotal: 3m 19s\tremaining: 1m 25s\n",
            "3550:\tlearn: 0.3612812\ttotal: 3m 22s\tremaining: 1m 22s\n",
            "3600:\tlearn: 0.3611006\ttotal: 3m 26s\tremaining: 1m 20s\n",
            "3650:\tlearn: 0.3609021\ttotal: 3m 28s\tremaining: 1m 17s\n",
            "3700:\tlearn: 0.3607136\ttotal: 3m 31s\tremaining: 1m 14s\n",
            "3750:\tlearn: 0.3605092\ttotal: 3m 33s\tremaining: 1m 11s\n",
            "3800:\tlearn: 0.3602981\ttotal: 3m 37s\tremaining: 1m 8s\n",
            "3850:\tlearn: 0.3601195\ttotal: 3m 40s\tremaining: 1m 5s\n",
            "3900:\tlearn: 0.3599255\ttotal: 3m 42s\tremaining: 1m 2s\n",
            "3950:\tlearn: 0.3597184\ttotal: 3m 45s\tremaining: 59.9s\n",
            "4000:\tlearn: 0.3595348\ttotal: 3m 47s\tremaining: 56.9s\n",
            "4050:\tlearn: 0.3593390\ttotal: 3m 52s\tremaining: 54.4s\n",
            "4100:\tlearn: 0.3591650\ttotal: 3m 54s\tremaining: 51.4s\n",
            "4150:\tlearn: 0.3589674\ttotal: 3m 57s\tremaining: 48.5s\n",
            "4200:\tlearn: 0.3587717\ttotal: 3m 59s\tremaining: 45.6s\n",
            "4250:\tlearn: 0.3585872\ttotal: 4m 2s\tremaining: 42.7s\n",
            "4300:\tlearn: 0.3584104\ttotal: 4m 6s\tremaining: 40s\n",
            "4350:\tlearn: 0.3582207\ttotal: 4m 8s\tremaining: 37.1s\n",
            "4400:\tlearn: 0.3580466\ttotal: 4m 11s\tremaining: 34.2s\n",
            "4450:\tlearn: 0.3578569\ttotal: 4m 13s\tremaining: 31.3s\n",
            "4500:\tlearn: 0.3576882\ttotal: 4m 17s\tremaining: 28.5s\n",
            "4550:\tlearn: 0.3575173\ttotal: 4m 20s\tremaining: 25.7s\n",
            "4600:\tlearn: 0.3573210\ttotal: 4m 22s\tremaining: 22.8s\n",
            "4650:\tlearn: 0.3571486\ttotal: 4m 25s\tremaining: 19.9s\n",
            "4700:\tlearn: 0.3569805\ttotal: 4m 27s\tremaining: 17s\n",
            "4750:\tlearn: 0.3567975\ttotal: 4m 32s\tremaining: 14.3s\n",
            "4800:\tlearn: 0.3566256\ttotal: 4m 34s\tremaining: 11.4s\n",
            "4850:\tlearn: 0.3564457\ttotal: 4m 37s\tremaining: 8.51s\n",
            "4900:\tlearn: 0.3562858\ttotal: 4m 39s\tremaining: 5.65s\n",
            "4950:\tlearn: 0.3561068\ttotal: 4m 42s\tremaining: 2.8s\n",
            "4999:\tlearn: 0.3559544\ttotal: 4m 46s\tremaining: 0us\n",
            "0:\tlearn: 0.3559530\ttotal: 50.9ms\tremaining: 4m 14s\n",
            "50:\tlearn: 0.3557729\ttotal: 2.52s\tremaining: 4m 4s\n",
            "100:\tlearn: 0.3556196\ttotal: 5.03s\tremaining: 4m 3s\n",
            "150:\tlearn: 0.3554532\ttotal: 7.5s\tremaining: 4m\n"
          ]
        },
        {
          "output_type": "error",
          "ename": "KeyboardInterrupt",
          "evalue": "",
          "traceback": [
            "\u001b[0;31m---------------------------------------------------------------------------\u001b[0m",
            "\u001b[0;31mKeyboardInterrupt\u001b[0m                         Traceback (most recent call last)",
            "\u001b[0;32m<ipython-input-11-11a813f8abeb>\u001b[0m in \u001b[0;36m<cell line: 5>\u001b[0;34m()\u001b[0m\n\u001b[1;32m      4\u001b[0m \u001b[0;34m\u001b[0m\u001b[0m\n\u001b[1;32m      5\u001b[0m \u001b[0;32mfor\u001b[0m \u001b[0m_\u001b[0m \u001b[0;32min\u001b[0m \u001b[0mrange\u001b[0m\u001b[0;34m(\u001b[0m\u001b[0mretrain_loop_count\u001b[0m\u001b[0;34m)\u001b[0m\u001b[0;34m:\u001b[0m\u001b[0;34m\u001b[0m\u001b[0;34m\u001b[0m\u001b[0m\n\u001b[0;32m----> 6\u001b[0;31m     catboost_model.fit(\n\u001b[0m\u001b[1;32m      7\u001b[0m         \u001b[0maugust_pool\u001b[0m\u001b[0;34m,\u001b[0m\u001b[0;34m\u001b[0m\u001b[0;34m\u001b[0m\u001b[0m\n\u001b[1;32m      8\u001b[0m         \u001b[0mverbose\u001b[0m\u001b[0;34m=\u001b[0m\u001b[0;36m50\u001b[0m\u001b[0;34m,\u001b[0m\u001b[0;34m\u001b[0m\u001b[0;34m\u001b[0m\u001b[0m\n",
            "\u001b[0;32m/usr/local/lib/python3.10/dist-packages/catboost/core.py\u001b[0m in \u001b[0;36mfit\u001b[0;34m(self, X, y, cat_features, text_features, embedding_features, graph, sample_weight, baseline, use_best_model, eval_set, verbose, logging_level, plot, plot_file, column_description, verbose_eval, metric_period, silent, early_stopping_rounds, save_snapshot, snapshot_file, snapshot_interval, init_model, callbacks, log_cout, log_cerr)\u001b[0m\n\u001b[1;32m   5871\u001b[0m         \u001b[0;32mif\u001b[0m \u001b[0;34m'loss_function'\u001b[0m \u001b[0;32min\u001b[0m \u001b[0mparams\u001b[0m\u001b[0;34m:\u001b[0m\u001b[0;34m\u001b[0m\u001b[0;34m\u001b[0m\u001b[0m\n\u001b[1;32m   5872\u001b[0m             \u001b[0mCatBoostRegressor\u001b[0m\u001b[0;34m.\u001b[0m\u001b[0m_check_is_compatible_loss\u001b[0m\u001b[0;34m(\u001b[0m\u001b[0mparams\u001b[0m\u001b[0;34m[\u001b[0m\u001b[0;34m'loss_function'\u001b[0m\u001b[0;34m]\u001b[0m\u001b[0;34m)\u001b[0m\u001b[0;34m\u001b[0m\u001b[0;34m\u001b[0m\u001b[0m\n\u001b[0;32m-> 5873\u001b[0;31m         return self._fit(X, y, cat_features, text_features, embedding_features, None, graph, sample_weight, None, None, None, None, baseline,\n\u001b[0m\u001b[1;32m   5874\u001b[0m                          \u001b[0muse_best_model\u001b[0m\u001b[0;34m,\u001b[0m \u001b[0meval_set\u001b[0m\u001b[0;34m,\u001b[0m \u001b[0mverbose\u001b[0m\u001b[0;34m,\u001b[0m \u001b[0mlogging_level\u001b[0m\u001b[0;34m,\u001b[0m \u001b[0mplot\u001b[0m\u001b[0;34m,\u001b[0m \u001b[0mplot_file\u001b[0m\u001b[0;34m,\u001b[0m \u001b[0mcolumn_description\u001b[0m\u001b[0;34m,\u001b[0m\u001b[0;34m\u001b[0m\u001b[0;34m\u001b[0m\u001b[0m\n\u001b[1;32m   5875\u001b[0m                          \u001b[0mverbose_eval\u001b[0m\u001b[0;34m,\u001b[0m \u001b[0mmetric_period\u001b[0m\u001b[0;34m,\u001b[0m \u001b[0msilent\u001b[0m\u001b[0;34m,\u001b[0m \u001b[0mearly_stopping_rounds\u001b[0m\u001b[0;34m,\u001b[0m\u001b[0;34m\u001b[0m\u001b[0;34m\u001b[0m\u001b[0m\n",
            "\u001b[0;32m/usr/local/lib/python3.10/dist-packages/catboost/core.py\u001b[0m in \u001b[0;36m_fit\u001b[0;34m(self, X, y, cat_features, text_features, embedding_features, pairs, graph, sample_weight, group_id, group_weight, subgroup_id, pairs_weight, baseline, use_best_model, eval_set, verbose, logging_level, plot, plot_file, column_description, verbose_eval, metric_period, silent, early_stopping_rounds, save_snapshot, snapshot_file, snapshot_interval, init_model, callbacks, log_cout, log_cerr)\u001b[0m\n\u001b[1;32m   2408\u001b[0m \u001b[0;34m\u001b[0m\u001b[0m\n\u001b[1;32m   2409\u001b[0m             \u001b[0;32mwith\u001b[0m \u001b[0mplot_wrapper\u001b[0m\u001b[0;34m(\u001b[0m\u001b[0mplot\u001b[0m\u001b[0;34m,\u001b[0m \u001b[0mplot_file\u001b[0m\u001b[0;34m,\u001b[0m \u001b[0;34m'Training plots'\u001b[0m\u001b[0;34m,\u001b[0m \u001b[0;34m[\u001b[0m\u001b[0m_get_train_dir\u001b[0m\u001b[0;34m(\u001b[0m\u001b[0mself\u001b[0m\u001b[0;34m.\u001b[0m\u001b[0mget_params\u001b[0m\u001b[0;34m(\u001b[0m\u001b[0;34m)\u001b[0m\u001b[0;34m)\u001b[0m\u001b[0;34m]\u001b[0m\u001b[0;34m)\u001b[0m\u001b[0;34m:\u001b[0m\u001b[0;34m\u001b[0m\u001b[0;34m\u001b[0m\u001b[0m\n\u001b[0;32m-> 2410\u001b[0;31m                 self._train(\n\u001b[0m\u001b[1;32m   2411\u001b[0m                     \u001b[0mtrain_pool\u001b[0m\u001b[0;34m,\u001b[0m\u001b[0;34m\u001b[0m\u001b[0;34m\u001b[0m\u001b[0m\n\u001b[1;32m   2412\u001b[0m                     \u001b[0mtrain_params\u001b[0m\u001b[0;34m[\u001b[0m\u001b[0;34m\"eval_sets\"\u001b[0m\u001b[0;34m]\u001b[0m\u001b[0;34m,\u001b[0m\u001b[0;34m\u001b[0m\u001b[0;34m\u001b[0m\u001b[0m\n",
            "\u001b[0;32m/usr/local/lib/python3.10/dist-packages/catboost/core.py\u001b[0m in \u001b[0;36m_train\u001b[0;34m(self, train_pool, test_pool, params, allow_clear_pool, init_model)\u001b[0m\n\u001b[1;32m   1788\u001b[0m \u001b[0;34m\u001b[0m\u001b[0m\n\u001b[1;32m   1789\u001b[0m     \u001b[0;32mdef\u001b[0m \u001b[0m_train\u001b[0m\u001b[0;34m(\u001b[0m\u001b[0mself\u001b[0m\u001b[0;34m,\u001b[0m \u001b[0mtrain_pool\u001b[0m\u001b[0;34m,\u001b[0m \u001b[0mtest_pool\u001b[0m\u001b[0;34m,\u001b[0m \u001b[0mparams\u001b[0m\u001b[0;34m,\u001b[0m \u001b[0mallow_clear_pool\u001b[0m\u001b[0;34m,\u001b[0m \u001b[0minit_model\u001b[0m\u001b[0;34m)\u001b[0m\u001b[0;34m:\u001b[0m\u001b[0;34m\u001b[0m\u001b[0;34m\u001b[0m\u001b[0m\n\u001b[0;32m-> 1790\u001b[0;31m         \u001b[0mself\u001b[0m\u001b[0;34m.\u001b[0m\u001b[0m_object\u001b[0m\u001b[0;34m.\u001b[0m\u001b[0m_train\u001b[0m\u001b[0;34m(\u001b[0m\u001b[0mtrain_pool\u001b[0m\u001b[0;34m,\u001b[0m \u001b[0mtest_pool\u001b[0m\u001b[0;34m,\u001b[0m \u001b[0mparams\u001b[0m\u001b[0;34m,\u001b[0m \u001b[0mallow_clear_pool\u001b[0m\u001b[0;34m,\u001b[0m \u001b[0minit_model\u001b[0m\u001b[0;34m.\u001b[0m\u001b[0m_object\u001b[0m \u001b[0;32mif\u001b[0m \u001b[0minit_model\u001b[0m \u001b[0;32melse\u001b[0m \u001b[0;32mNone\u001b[0m\u001b[0;34m)\u001b[0m\u001b[0;34m\u001b[0m\u001b[0;34m\u001b[0m\u001b[0m\n\u001b[0m\u001b[1;32m   1791\u001b[0m         \u001b[0mself\u001b[0m\u001b[0;34m.\u001b[0m\u001b[0m_set_trained_model_attributes\u001b[0m\u001b[0;34m(\u001b[0m\u001b[0;34m)\u001b[0m\u001b[0;34m\u001b[0m\u001b[0;34m\u001b[0m\u001b[0m\n\u001b[1;32m   1792\u001b[0m \u001b[0;34m\u001b[0m\u001b[0m\n",
            "\u001b[0;32m_catboost.pyx\u001b[0m in \u001b[0;36m_catboost._CatBoost._train\u001b[0;34m()\u001b[0m\n",
            "\u001b[0;32m_catboost.pyx\u001b[0m in \u001b[0;36m_catboost._CatBoost._train\u001b[0;34m()\u001b[0m\n",
            "\u001b[0;31mKeyboardInterrupt\u001b[0m: "
          ]
        }
      ]
    },
    {
      "cell_type": "code",
      "source": [
        "from sklearn.metrics import mean_squared_error\n",
        "\n",
        "# Generate predictions on the validation set\n",
        "y_val_pred = catboost_model.predict(X_val)\n",
        "\n",
        "# Calculate the RMSE\n",
        "rmse = np.sqrt(mean_squared_error(y_val, y_val_pred))\n",
        "print(f'RMSE: {rmse}')\n"
      ],
      "metadata": {
        "colab": {
          "base_uri": "https://localhost:8080/"
        },
        "id": "A7H0Shb13Py4",
        "outputId": "f88a4345-5709-4563-eacf-387799b9c621"
      },
      "execution_count": 12,
      "outputs": [
        {
          "output_type": "stream",
          "name": "stdout",
          "text": [
            "RMSE: 0.3799323732978071\n"
          ]
        }
      ]
    },
    {
      "cell_type": "code",
      "source": [
        "test_predictions_log = catboost_model.predict(test_df)\n",
        "\n",
        "test_df['sales'] = np.expm1(test_predictions_log)\n",
        "\n",
        "test_df['sales'] = np.where(test_df['sales'] < 0, 0, test_df['sales'])\n"
      ],
      "metadata": {
        "id": "WvbZVWHpxj7t"
      },
      "execution_count": 13,
      "outputs": []
    },
    {
      "cell_type": "code",
      "source": [
        "submission = test_df[['id', 'sales']]\n",
        "\n",
        "submission.to_csv('submission.csv', index=False)\n",
        "\n",
        "print(submission)\n"
      ],
      "metadata": {
        "colab": {
          "base_uri": "https://localhost:8080/"
        },
        "id": "wPgSZTdRyasJ",
        "outputId": "154b8e77-fead-4312-af3b-533c5dc2131d"
      },
      "execution_count": 14,
      "outputs": [
        {
          "output_type": "stream",
          "name": "stdout",
          "text": [
            "            id        sales\n",
            "0      3000888     4.589866\n",
            "1      3000889     0.000000\n",
            "2      3000890     5.253364\n",
            "3      3000891  2318.820519\n",
            "4      3000892     0.140984\n",
            "...        ...          ...\n",
            "28507  3029395   341.786658\n",
            "28508  3029396    94.114781\n",
            "28509  3029397  1144.522938\n",
            "28510  3029398    76.616239\n",
            "28511  3029399    16.108102\n",
            "\n",
            "[28512 rows x 2 columns]\n"
          ]
        }
      ]
    },
    {
      "cell_type": "code",
      "source": [
        "from google.colab import files\n",
        "files.download('submission.csv')\n"
      ],
      "metadata": {
        "colab": {
          "base_uri": "https://localhost:8080/",
          "height": 17
        },
        "id": "JiiayMLszQ11",
        "outputId": "c38e9226-267a-4b8f-8d66-de8d8a012029"
      },
      "execution_count": 15,
      "outputs": [
        {
          "output_type": "display_data",
          "data": {
            "text/plain": [
              "<IPython.core.display.Javascript object>"
            ],
            "application/javascript": [
              "\n",
              "    async function download(id, filename, size) {\n",
              "      if (!google.colab.kernel.accessAllowed) {\n",
              "        return;\n",
              "      }\n",
              "      const div = document.createElement('div');\n",
              "      const label = document.createElement('label');\n",
              "      label.textContent = `Downloading \"${filename}\": `;\n",
              "      div.appendChild(label);\n",
              "      const progress = document.createElement('progress');\n",
              "      progress.max = size;\n",
              "      div.appendChild(progress);\n",
              "      document.body.appendChild(div);\n",
              "\n",
              "      const buffers = [];\n",
              "      let downloaded = 0;\n",
              "\n",
              "      const channel = await google.colab.kernel.comms.open(id);\n",
              "      // Send a message to notify the kernel that we're ready.\n",
              "      channel.send({})\n",
              "\n",
              "      for await (const message of channel.messages) {\n",
              "        // Send a message to notify the kernel that we're ready.\n",
              "        channel.send({})\n",
              "        if (message.buffers) {\n",
              "          for (const buffer of message.buffers) {\n",
              "            buffers.push(buffer);\n",
              "            downloaded += buffer.byteLength;\n",
              "            progress.value = downloaded;\n",
              "          }\n",
              "        }\n",
              "      }\n",
              "      const blob = new Blob(buffers, {type: 'application/binary'});\n",
              "      const a = document.createElement('a');\n",
              "      a.href = window.URL.createObjectURL(blob);\n",
              "      a.download = filename;\n",
              "      div.appendChild(a);\n",
              "      a.click();\n",
              "      div.remove();\n",
              "    }\n",
              "  "
            ]
          },
          "metadata": {}
        },
        {
          "output_type": "display_data",
          "data": {
            "text/plain": [
              "<IPython.core.display.Javascript object>"
            ],
            "application/javascript": [
              "download(\"download_add83164-123f-4a03-b7d0-51488bc5ad6c\", \"submission.csv\", 731728)"
            ]
          },
          "metadata": {}
        }
      ]
    }
  ]
}